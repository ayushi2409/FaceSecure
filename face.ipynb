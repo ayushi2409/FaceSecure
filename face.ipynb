{
 "cells": [
  {
   "cell_type": "code",
   "execution_count": null,
   "id": "a5a71054",
   "metadata": {},
   "outputs": [],
   "source": []
  },
  {
   "cell_type": "code",
   "execution_count": null,
   "id": "356cc05e",
   "metadata": {},
   "outputs": [],
   "source": [
    "import cv2"
   ]
  },
  {
   "cell_type": "code",
   "execution_count": null,
   "id": "470c5d05",
   "metadata": {},
   "outputs": [],
   "source": [
    "haar_cascade_path = cv2.data.haarcascades + \"haarcascade_frontalface_default.xml\"\n",
    "face_cap = cv2.CascadeClassifier(haar_cascade_path)\n",
    "\n",
    "if face_cap.empty():\n",
    "    print(\"Error: Could not load Haar cascade XML file.\")\n",
    "    exit()\n",
    "\n",
    "\n",
    "video_cap = cv2.VideoCapture(0)\n",
    "if not video_cap.isOpened():\n",
    "    print(\"Error: Could not open webcam.\")\n",
    "    exit()\n",
    "\n",
    "\n",
    "while True:\n",
    "    ret, video_data = video_cap.read()\n",
    "\n",
    "    if not ret:\n",
    "        print(\"Error: Failed to capture frame.\")\n",
    "        break\n",
    "    col = cv2.cvtColor(video_data, cv2.COLOR_BGR2GRAY)\n",
    "    faces = face_cap.detectMultiScale(\n",
    "        col,\n",
    "        scaleFactor=1.1,\n",
    "        minNeighbors=5,\n",
    "        minSize=(30, 30),\n",
    "        flags=cv2.CASCADE_SCALE_IMAGE\n",
    "    )\n",
    "    for (x, y, w, h) in faces:\n",
    "        cv2.rectangle(video_data, (x, y), (x + w, y + h), (0, 255, 0), 2)\n",
    "    cv2.imshow(\"Live Face Detection - Press 'a' to exit\", video_data)\n",
    "    if cv2.waitKey(10) == ord('a'):\n",
    "        break\n",
    "video_cap.release()\n",
    "cv2.destroyAllWindows()\n"
   ]
  }
 ],
 "metadata": {
  "kernelspec": {
   "display_name": "Python 3",
   "language": "python",
   "name": "python3"
  },
  "language_info": {
   "codemirror_mode": {
    "name": "ipython",
    "version": 3
   },
   "file_extension": ".py",
   "mimetype": "text/x-python",
   "name": "python",
   "nbconvert_exporter": "python",
   "pygments_lexer": "ipython3",
   "version": "3.12.0"
  }
 },
 "nbformat": 4,
 "nbformat_minor": 5
}
